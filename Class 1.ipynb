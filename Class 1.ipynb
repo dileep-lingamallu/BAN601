{
 "cells": [
  {
   "cell_type": "code",
   "execution_count": 1,
   "id": "c939cd6b",
   "metadata": {},
   "outputs": [],
   "source": [
    "import math"
   ]
  },
  {
   "cell_type": "code",
   "execution_count": 11,
   "id": "b6570968",
   "metadata": {},
   "outputs": [
    {
     "name": "stdout",
     "output_type": "stream",
     "text": [
      "4\n"
     ]
    }
   ],
   "source": [
    "x=3.4\n",
    "y=4\n",
    "print(math.ceil(x))"
   ]
  },
  {
   "cell_type": "code",
   "execution_count": 5,
   "id": "0491ee1d",
   "metadata": {},
   "outputs": [
    {
     "name": "stdout",
     "output_type": "stream",
     "text": [
      "3\n"
     ]
    }
   ],
   "source": [
    "print(math.floor(x))"
   ]
  },
  {
   "cell_type": "code",
   "execution_count": 7,
   "id": "0c7b0b03",
   "metadata": {},
   "outputs": [
    {
     "name": "stdout",
     "output_type": "stream",
     "text": [
      "6\n"
     ]
    }
   ],
   "source": [
    "# print(math.factorial(x)) factorial only accepts the integral values\n",
    "print(math.factorial(3))"
   ]
  },
  {
   "cell_type": "code",
   "execution_count": 9,
   "id": "f345c617",
   "metadata": {},
   "outputs": [
    {
     "name": "stdout",
     "output_type": "stream",
     "text": [
      "29.96410004739701\n"
     ]
    }
   ],
   "source": [
    "print(math.exp(x))"
   ]
  },
  {
   "cell_type": "code",
   "execution_count": 12,
   "id": "c230bb0a",
   "metadata": {},
   "outputs": [
    {
     "name": "stdout",
     "output_type": "stream",
     "text": [
      "133.63359999999997\n"
     ]
    }
   ],
   "source": [
    "# print(math.pow(x)) pow expects 2 arguments, here it got 1\n",
    "print(math.pow(x,y))"
   ]
  },
  {
   "cell_type": "code",
   "execution_count": 17,
   "id": "79e6ecde",
   "metadata": {},
   "outputs": [
    {
     "name": "stdout",
     "output_type": "stream",
     "text": [
      "3.141592653589793\n",
      "2.718281828459045\n",
      "inf\n",
      "nan\n"
     ]
    }
   ],
   "source": [
    "#some constants \n",
    "print(math.pi)\n",
    "print(math.e)\n",
    "print(math.inf) #print the positive infinity\n",
    "print(math.nan) #print a value of nan - not a number"
   ]
  },
  {
   "cell_type": "code",
   "execution_count": 18,
   "id": "a9d36a43",
   "metadata": {},
   "outputs": [
    {
     "name": "stdout",
     "output_type": "stream",
     "text": [
      "False\n"
     ]
    }
   ],
   "source": [
    "print(x==y) #comparition\n"
   ]
  },
  {
   "cell_type": "code",
   "execution_count": null,
   "id": "049eb081",
   "metadata": {},
   "outputs": [],
   "source": []
  }
 ],
 "metadata": {
  "kernelspec": {
   "display_name": "Python 3 (ipykernel)",
   "language": "python",
   "name": "python3"
  },
  "language_info": {
   "codemirror_mode": {
    "name": "ipython",
    "version": 3
   },
   "file_extension": ".py",
   "mimetype": "text/x-python",
   "name": "python",
   "nbconvert_exporter": "python",
   "pygments_lexer": "ipython3",
   "version": "3.9.7"
  }
 },
 "nbformat": 4,
 "nbformat_minor": 5
}
