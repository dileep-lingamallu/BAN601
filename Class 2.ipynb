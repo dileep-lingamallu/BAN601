{
 "cells": [
  {
   "cell_type": "code",
   "execution_count": 1,
   "id": "721fd7c6",
   "metadata": {},
   "outputs": [],
   "source": [
    "#numpy pandas dataframe\n",
    "#list tuple dictionary"
   ]
  },
  {
   "cell_type": "code",
   "execution_count": 32,
   "id": "f5fd3767",
   "metadata": {},
   "outputs": [
    {
     "name": "stdout",
     "output_type": "stream",
     "text": [
      "[1, 2, 3, 4, 5] [1, 'abc', True]\n",
      "this is length of a -  5\n",
      "appended 100 in the end of the list [1, 2, 3, 4, 5, 100]\n",
      "inserted 0 at 0th place [0, 1, 2, 3, 4, 5, 100]\n",
      "removed 0 from the list [1, 2, 3, 4, 5, 100]\n",
      "popped index 5 from the list [1, 2, 3, 4, 5]\n",
      "appending 2 lists -  [1, 2, 3, 4, 5, 1, 'abc', True]\n",
      "[10, 8, 7, 6, 5]\n",
      "8\n",
      "5\n",
      "6\n",
      "[10, 8, 7]\n",
      "last 3 elements in the list a1 [7, 6, 5]\n",
      "2\n",
      "5\n",
      "this is zip method (1, 'one')\n",
      "this is zip method (2, 'two')\n",
      "this is zip method (3, 'three')\n",
      "this is zip method (4, 'four')\n",
      "this is zip method (5, 'five')\n",
      "one two three four five\n"
     ]
    }
   ],
   "source": [
    "#list\n",
    "\n",
    "a = [1,2,3,4,5]\n",
    "b= [1,'abc',True]\n",
    "\n",
    "print(a,b)\n",
    "print('this is length of a - ',len(a))\n",
    "\n",
    "a.append(100)\n",
    "print('appended 100 in the end of the list',a)\n",
    "\n",
    "a.insert(0,0)\n",
    "print('inserted 0 at 0th place',a)\n",
    "\n",
    "a.remove(0)\n",
    "print('removed 0 from the list', a)\n",
    "\n",
    "a.pop(5) #removing based on index\n",
    "print('popped index 5 from the list', a)\n",
    "\n",
    "print('appending 2 lists - ',a+b)\n",
    "\n",
    "a1 = [9,8,7,6,5]\n",
    "a1[0]=10 #replacing the element in the list with index\n",
    "print(a1)\n",
    "\n",
    "print(a1[1]) #printing the element with index\n",
    "print(a1[-1]) #printing the element from behind\n",
    "print(a1[-2])\n",
    "\n",
    "print(a1[0:3]) # a1[inclusive index, exclusive index]\n",
    "print('last 3 elements in the list a1', a1[-3:]) # last 3 elements in the list a1\n",
    "\n",
    "#list of lists\n",
    "\n",
    "c=[[1,2,3],[4,5,6]] #higher data. this is easy with numpy\n",
    "print(c[0][1])\n",
    "print(c[1][1])\n",
    "\n",
    "# zip will match the corresponding elements in 2 lists\n",
    "\n",
    "d=['one','two','three','four','five']\n",
    "for i in zip(a,d):\n",
    "    print('this is zip method',i)\n",
    "  \n",
    "# joining the elements in list\n",
    "d2=d\n",
    "print(\" \".join(d2))"
   ]
  },
  {
   "cell_type": "code",
   "execution_count": 37,
   "id": "e4e9d3bc",
   "metadata": {},
   "outputs": [
    {
     "name": "stdout",
     "output_type": "stream",
     "text": [
      "15\n",
      "5\n",
      "1\n",
      "3\n",
      "3\n",
      "1.5811388300841898\n",
      "[(1, 2), (1, 3), (1, 4), (1, 5), (2, 1), (2, 3), (2, 4), (2, 5), (3, 1), (3, 2), (3, 4), (3, 5), (4, 1), (4, 2), (4, 3), (4, 5), (5, 1), (5, 2), (5, 3), (5, 4)]\n"
     ]
    }
   ],
   "source": [
    "#summary statistics \n",
    "import statistics as stat\n",
    "a\n",
    "print(sum(a))\n",
    "print(max(a))\n",
    "print(min(a))\n",
    "print(stat.mean(a))\n",
    "print(stat.median(a))\n",
    "print(stat.stdev(a)) # standard deviation\n",
    "\n",
    "import itertools as iterit\n",
    "\n",
    "print(list(iterit.permutations(a,2))) # permutations\n",
    "\n"
   ]
  },
  {
   "cell_type": "code",
   "execution_count": 38,
   "id": "d2367b54",
   "metadata": {},
   "outputs": [
    {
     "name": "stdout",
     "output_type": "stream",
     "text": [
      "2 3\n"
     ]
    }
   ],
   "source": [
    "a4=[1,2,3,4] # list. this is mutable. you can alter the data\n",
    "b2=(1,2,3,4) # tuple. this is not mutable. you cant alter its contents\n",
    "\n",
    "# 1. Iterations with tuple is much faster.\n",
    "# 2. Takes less space to store\n",
    "# 3. Security issues\n",
    "# 4. assigning the values to the tuple\n",
    "_,second,third,_=a4\n",
    "print(second,third)"
   ]
  },
  {
   "cell_type": "code",
   "execution_count": 45,
   "id": "7eef4807",
   "metadata": {},
   "outputs": [
    {
     "name": "stdout",
     "output_type": "stream",
     "text": [
      "3 1 2\n",
      "2 1 2\n",
      "2 2 1\n"
     ]
    }
   ],
   "source": [
    "x=1; y=2; z=3\n",
    "#next round, x=3, y=1, z=2\n",
    "x,y,z=z,x,y\n",
    "print(x,y,z)\n",
    "\n",
    "tempx= 1\n",
    "x=z\n",
    "tempy= 2\n",
    "y=tempx\n",
    "z=tempy\n",
    "print(x,y,z)\n",
    "\n",
    "#but with tuple\n",
    "\n",
    "x,y,z=z,x,y\n",
    "print(x,y,z)\n"
   ]
  },
  {
   "cell_type": "code",
   "execution_count": 57,
   "id": "51327fb8",
   "metadata": {},
   "outputs": [
    {
     "name": "stdout",
     "output_type": "stream",
     "text": [
      "{1, 2, 3, 4} {1, 2, 3, 4}\n",
      "{}\n",
      "{1}\n",
      "{1, 2, 3, 4, 5}\n",
      "{1, 2, 3, 4, 5, 6, 7, 8}\n",
      "[2, 3, 4]\n",
      "{1, 2, 3, 4, 5}\n",
      "{1}\n",
      "{5}\n",
      "{1, 5}\n",
      "{1, 2, 3, 4, 5, 6, 7}\n"
     ]
    }
   ],
   "source": [
    "#sets\n",
    "\n",
    "# 1. sets are not iterable, list and tuple are iterable\n",
    "# 2. for set, we only care about what is inside\n",
    "\n",
    "set1=set(a4)\n",
    "set2=set(b2)\n",
    "\n",
    "print(set1,set2)\n",
    "\n",
    "empty_set={}\n",
    "print(empty_set)\n",
    "\n",
    "empty_set=set() #void method\n",
    "\n",
    "# add items to empty_set\n",
    "empty_set.add(1)\n",
    "print(empty_set)\n",
    "\n",
    "#union method\n",
    "empty_set= empty_set | {2,3,4,5}\n",
    "print(empty_set)\n",
    "\n",
    "#update set\n",
    "empty_set.update([6,7,8])\n",
    "print(empty_set)\n",
    "\n",
    "#intersection\n",
    "ex_list1 = [1,2,3,4]\n",
    "ex_list2 = [2,3,4,5]\n",
    "\n",
    "#convert the two lists into sets and then you can intersect or union them\n",
    "print(list(set(ex_list1) & set(ex_list2)))\n",
    "\n",
    "print(set(ex_list1) | set(ex_list2))\n",
    "\n",
    "#set difference\n",
    "#elements in list1 but not in list2\n",
    "print(set(ex_list1)-set(ex_list2))\n",
    "\n",
    "#elements in list2 but not in list1\n",
    "print(set(ex_list2)-set(ex_list1))\n",
    "\n",
    "# symmetric difference of sets(all the numbers that are not shared)\n",
    "print(set(ex_list1) ^ set(ex_list2))\n",
    "\n",
    "#duplicate removal using the set does not retain the sequence\n",
    "dup_set = [1,1,2,3,4,5,5,6,7,7]\n",
    "print(set(dup_set))\n"
   ]
  },
  {
   "cell_type": "code",
   "execution_count": 67,
   "id": "e42ebab5",
   "metadata": {},
   "outputs": [
    {
     "name": "stdout",
     "output_type": "stream",
     "text": [
      "dict_keys(['salary', 'workhours', 'bonus'])\n",
      "dict_values([10000, 100, 1000])\n",
      "not found!\n",
      "not found\n",
      "{'salary': 10000, 'workhours': 100, 'bonus': 1000, 'rank': {'earlier': 'senior', 'later': 'junior'}}\n",
      "this is new update_dict ------- {'salary': 10000, 'hiredate': '2022', 'workhours': 100, 'bonus': 1000, 'rank': {'earlier': 'senior', 'later': 'junior'}}\n",
      "[1, 2, 3, 99, 88, 4, 5, 6]\n"
     ]
    }
   ],
   "source": [
    "#dictonary is key value pairs\n",
    "\n",
    "#it is many-to-one but not necessary to one-to-one\n",
    "\n",
    "dictionary={\"salary\":10000, \"workhours\":100, \"bonus\":1000}\n",
    "\n",
    "print(dictionary.keys())\n",
    "print(dictionary.values())\n",
    "\n",
    "print(dictionary.get(\"hiredate\", \"not found!\"))\n",
    "\n",
    "if \"hiredate\" in dictionary:\n",
    "    print(dictionary[\"hiredate\"])\n",
    "else:\n",
    "    print(\"not found\")\n",
    "    \n",
    "dictionary[\"rank\"]={'earlier':'senior','later':'junior'}\n",
    "print(dictionary)\n",
    "\n",
    "update_dict = {'salary':'11000','hiredate':'2022'}\n",
    "\n",
    "update_dict.update(dictionary)\n",
    "print('this is new update_dict -------', update_dict)\n",
    "\n",
    "st=[1,2,3,99,99,88,88,4,5,6]\n",
    "print(list(dict.fromkeys(st,0).keys())) # static method... for what?"
   ]
  },
  {
   "cell_type": "code",
   "execution_count": 74,
   "id": "1e6d2e30",
   "metadata": {},
   "outputs": [
    {
     "name": "stdout",
     "output_type": "stream",
     "text": [
      "Dileep\n",
      "1\n",
      "0\n",
      "a appears first\n"
     ]
    }
   ],
   "source": [
    "#string operations\n",
    "\n",
    "string= \"a string\"\n",
    "\n",
    "def myFunc(text):\n",
    "    FirstLetter = text[0].upper()\n",
    "    TheRest = text[1:].lower()\n",
    "    output = FirstLetter+TheRest\n",
    "    return output\n",
    "\n",
    "text = 'dileep'\n",
    "print(myFunc(text))\n",
    "\n",
    "#given a string determine if a appers first or b appears first\n",
    "\n",
    "x= \"banana\"\n",
    "print(x.find('a'))\n",
    "print(x.find('b'))\n",
    "\n",
    "\n",
    "def WhoIsFirst(text):\n",
    "    index_a=text.find(\"a\")\n",
    "    index_b=text.find(\"b\")\n",
    "    if index_a<index_b and 'a' in text and 'b' in text:\n",
    "        return 'a appears first'\n",
    "    else:\n",
    "        pass\n",
    "print(WhoIsFirst('thisisaandthisisb'))"
   ]
  },
  {
   "cell_type": "code",
   "execution_count": 82,
   "id": "bd2d7b0f",
   "metadata": {},
   "outputs": [
    {
     "name": "stdout",
     "output_type": "stream",
     "text": [
      "[1, 3, 5]\n",
      "bbbb\n"
     ]
    }
   ],
   "source": [
    "#find a location of all occurance of a letter\n",
    "\n",
    "x= 'astring'\n",
    "\n",
    "def Where(text, char):\n",
    "    result=[]\n",
    "    for index in range(len(text)):\n",
    "        if text[index]==char:\n",
    "            result.append(index)\n",
    "    return result\n",
    "\n",
    "print(Where('banana','a'))\n",
    "\n",
    "#replacing\n",
    "x = 'aaaa'\n",
    "print(x.replace(\"a\",\"b\"))\n",
    "\n",
    "#check the class at 2:30hrs \n"
   ]
  },
  {
   "cell_type": "code",
   "execution_count": 83,
   "id": "09a40c3d",
   "metadata": {},
   "outputs": [],
   "source": [
    "#string formatting\n",
    "\n",
    "#check the class"
   ]
  },
  {
   "cell_type": "code",
   "execution_count": 84,
   "id": "7efc1004",
   "metadata": {},
   "outputs": [
    {
     "name": "stdout",
     "output_type": "stream",
     "text": [
      " this is a string literal example 1, 2\n"
     ]
    }
   ],
   "source": [
    "# f is a formatted string literal incase there are any replacements in the string then use this \n",
    "first_number = 1\n",
    "second_number = 2\n",
    "print(f\" this is a string literal example {first_number}, {second_number}\") "
   ]
  },
  {
   "cell_type": "code",
   "execution_count": 85,
   "id": "4d5ec454",
   "metadata": {},
   "outputs": [],
   "source": [
    "# conditional statement\n",
    "\n",
    "#check class\n"
   ]
  },
  {
   "cell_type": "code",
   "execution_count": 90,
   "id": "1e61bab4",
   "metadata": {},
   "outputs": [
    {
     "name": "stdout",
     "output_type": "stream",
     "text": [
      "C:\\Users\\STSC.LENOVO-131292\\BAN 601\n",
      "['.ipynb_checkpoints', 'Class 1.ipynb', 'Class 2.ipynb']\n"
     ]
    }
   ],
   "source": [
    "#file systems\n",
    "\n",
    "import os\n",
    "\n",
    "#os.chdir(\"../\")\n",
    "print(os.getcwd())\n",
    "print(os.listdir())\n",
    "\n",
    "\n",
    "#env: contain the parameter regarding the env the application is running at\n",
    "\n",
    "#config: "
   ]
  },
  {
   "cell_type": "code",
   "execution_count": 91,
   "id": "accfa9f7",
   "metadata": {},
   "outputs": [],
   "source": [
    "#check class for file systems"
   ]
  },
  {
   "cell_type": "code",
   "execution_count": 98,
   "id": "4a95ada6",
   "metadata": {},
   "outputs": [],
   "source": [
    "#pickle dump This is very powerful\n",
    "#json dump\n",
    "\n",
    "#write a file\n",
    "\n",
    "with open(\"new_file.txt\",'w') as f:\n",
    "    f.write(\"this is new file\")\n",
    "    \n",
    "#append to file\n",
    "\n",
    "with open(\"new_file.txt\",'a') as f:\n",
    "    f.write(\"\\n this is appended\")\n",
    "    \n",
    "with open(\"new_file.txt\", 'w') as f:\n",
    "    f.seek(20)\n",
    "    f.write(\"this is again something new\")"
   ]
  },
  {
   "cell_type": "code",
   "execution_count": null,
   "id": "cee6df87",
   "metadata": {},
   "outputs": [],
   "source": []
  }
 ],
 "metadata": {
  "kernelspec": {
   "display_name": "Python 3 (ipykernel)",
   "language": "python",
   "name": "python3"
  },
  "language_info": {
   "codemirror_mode": {
    "name": "ipython",
    "version": 3
   },
   "file_extension": ".py",
   "mimetype": "text/x-python",
   "name": "python",
   "nbconvert_exporter": "python",
   "pygments_lexer": "ipython3",
   "version": "3.9.7"
  }
 },
 "nbformat": 4,
 "nbformat_minor": 5
}
