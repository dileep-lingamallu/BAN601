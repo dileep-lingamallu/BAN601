{
 "cells": [
  {
   "cell_type": "code",
   "execution_count": 1,
   "id": "c6df95d9",
   "metadata": {},
   "outputs": [
    {
     "name": "stdout",
     "output_type": "stream",
     "text": [
      "2742795968960\n"
     ]
    }
   ],
   "source": [
    "#numpy\n",
    "\n",
    "#Used to handle high dimensional data \n",
    "\n",
    "#when objects are initiated?\n",
    "\n",
    "#objects are instantiated only when we do value assignment\n",
    "\n",
    "x = [1,2,3] #x is object here\n",
    "print(id(x))"
   ]
  },
  {
   "cell_type": "code",
   "execution_count": 3,
   "id": "6ddb235b",
   "metadata": {
    "collapsed": true
   },
   "outputs": [
    {
     "name": "stdout",
     "output_type": "stream",
     "text": [
      "Collecting package metadata (current_repodata.json): ...working... done\n",
      "Solving environment: ...working... done\n",
      "\n",
      "## Package Plan ##\n",
      "\n",
      "  environment location: C:\\Users\\STSC.LENOVO-131292\\anaconda3\\envs\\rstudio\n",
      "\n",
      "  added / updated specs:\n",
      "    - numpy\n",
      "\n",
      "\n",
      "The following packages will be downloaded:\n",
      "\n",
      "    package                    |            build\n",
      "    ---------------------------|-----------------\n",
      "    ca-certificates-2021.10.26 |       haa95532_4         116 KB\n",
      "    numpy-1.21.2               |   py39hfca59bb_0          24 KB\n",
      "    numpy-base-1.21.2          |   py39h0829f74_0         4.4 MB\n",
      "    ------------------------------------------------------------\n",
      "                                           Total:         4.6 MB\n",
      "\n",
      "The following NEW packages will be INSTALLED:\n",
      "\n",
      "  blas               pkgs/main/win-64::blas-1.0-mkl\n",
      "  intel-openmp       pkgs/main/win-64::intel-openmp-2021.4.0-haa95532_3556\n",
      "  mkl                pkgs/main/win-64::mkl-2021.4.0-haa95532_640\n",
      "  mkl-service        pkgs/main/win-64::mkl-service-2.4.0-py39h2bbff1b_0\n",
      "  mkl_fft            pkgs/main/win-64::mkl_fft-1.3.1-py39h277e83a_0\n",
      "  mkl_random         pkgs/main/win-64::mkl_random-1.2.2-py39hf11a4ad_0\n",
      "  numpy              pkgs/main/win-64::numpy-1.21.2-py39hfca59bb_0\n",
      "  numpy-base         pkgs/main/win-64::numpy-base-1.21.2-py39h0829f74_0\n",
      "\n",
      "The following packages will be UPDATED:\n",
      "\n",
      "  ca-certificates                     2021.10.26-haa95532_2 --> 2021.10.26-haa95532_4\n",
      "\n",
      "\n",
      "\n",
      "Downloading and Extracting Packages\n",
      "\n",
      "ca-certificates-2021 | 116 KB    |            |   0% \n",
      "ca-certificates-2021 | 116 KB    | #3         |  14% \n",
      "ca-certificates-2021 | 116 KB    | ########## | 100% \n",
      "\n",
      "numpy-base-1.21.2    | 4.4 MB    |            |   0% \n",
      "numpy-base-1.21.2    | 4.4 MB    | ##2        |  22% \n",
      "numpy-base-1.21.2    | 4.4 MB    | ########   |  80% \n",
      "numpy-base-1.21.2    | 4.4 MB    | ########## | 100% \n",
      "\n",
      "numpy-1.21.2         | 24 KB     |            |   0% \n",
      "numpy-1.21.2         | 24 KB     | ########## | 100% \n",
      "Preparing transaction: ...working... done\n",
      "Verifying transaction: ...working... done\n",
      "Executing transaction: ...working... done\n"
     ]
    },
    {
     "name": "stderr",
     "output_type": "stream",
     "text": [
      "\n",
      "\n",
      "==> WARNING: A newer version of conda exists. <==\n",
      "  current version: 4.10.3\n",
      "  latest version: 4.11.0\n",
      "\n",
      "Please update conda by running\n",
      "\n",
      "    $ conda update -n base -c defaults conda\n",
      "\n",
      "\n"
     ]
    }
   ],
   "source": [
    "import sys\n",
    "!conda install --yes --prefix {sys.prefix} numpy"
   ]
  },
  {
   "cell_type": "code",
   "execution_count": 22,
   "id": "e7d03714",
   "metadata": {
    "scrolled": true
   },
   "outputs": [
    {
     "name": "stdout",
     "output_type": "stream",
     "text": [
      "[1 2 3]\n",
      "[[1 2 3]\n",
      " [3 2 1]]\n",
      "(2, 3)\n",
      "2\n",
      "3\n",
      "-----------------------------------------------------------------\n",
      "[[0. 0. 0.]\n",
      " [0. 0. 0.]]\n",
      "-----------------------------------------------------------------\n",
      "[[1. 0. 0.]\n",
      " [0. 1. 0.]\n",
      " [0. 0. 1.]]\n",
      "-----------------------------------------------------------------\n",
      "[[1 2 3]\n",
      " [3 2 1]]\n",
      "[[1 4 9]\n",
      " [9 4 1]]\n",
      "-----------------------------------------------------------------\n",
      "[[2 3 4]\n",
      " [4 3 2]]\n",
      "-----------------------------------------------------------------\n",
      "[1 2]\n",
      "[[1 2]]\n",
      "[[1]\n",
      " [2]]\n"
     ]
    }
   ],
   "source": [
    "import numpy as np\n",
    "\n",
    "arr_ex = np.array([1,2,3])\n",
    "print(arr_ex)\n",
    "\n",
    "arr = np.array([[1,2,3],\n",
    "               [3,2,1]])\n",
    "print(arr)\n",
    "\n",
    "print(arr.shape) # shape of the matrix\n",
    "print(arr.shape[0])\n",
    "print(arr.shape[1])\n",
    "print('-----------------------------------------------------------------')\n",
    "\n",
    "zeros = np.zeros(arr.shape)\n",
    "print(zeros)\n",
    "print('-----------------------------------------------------------------')\n",
    "\n",
    "#identity matrix\n",
    "\n",
    "id_matrix = np.eye(3)\n",
    "print(id_matrix)\n",
    "print('-----------------------------------------------------------------')\n",
    "\n",
    "#element wise calculation\n",
    "\n",
    "arrr = arr\n",
    "print(arrr)\n",
    "print(arrr ** 2) \n",
    "print('-----------------------------------------------------------------')\n",
    "\n",
    "#broadcasting - frist bring two array into same shape then do the elementwise calculation\n",
    "\n",
    "print(arrr + 1) #<- broadcasting\n",
    "print('-----------------------------------------------------------------')\n",
    "\n",
    "arr1 = np.array([1,2]) # rank 1 array\n",
    "print(arr1)\n",
    "\n",
    "arr2 = arr1.reshape((1,2))\n",
    "print(arr2)\n",
    "\n",
    "arr3 = arr1.reshape((2,1))\n",
    "print(arr3)"
   ]
  },
  {
   "cell_type": "code",
   "execution_count": 29,
   "id": "8634d971",
   "metadata": {
    "scrolled": true
   },
   "outputs": [
    {
     "name": "stdout",
     "output_type": "stream",
     "text": [
      "(3, 2, 3)\n",
      "[[[1 2 3]\n",
      "  [3 2 1]]\n",
      "\n",
      " [[4 5 6]\n",
      "  [6 5 4]]\n",
      "\n",
      " [[7 8 9]\n",
      "  [9 8 7]]]\n",
      "-----------------------------------------------------------------\n",
      "[[[1 3]\n",
      "  [3 1]]\n",
      "\n",
      " [[4 6]\n",
      "  [6 4]]\n",
      "\n",
      " [[7 9]\n",
      "  [9 7]]]\n",
      "-----------------------------------------------------------------\n",
      "[[[1 3]]\n",
      "\n",
      " [[4 6]]\n",
      "\n",
      " [[7 9]]]\n"
     ]
    }
   ],
   "source": [
    "#higher dimension\n",
    "\n",
    "arr = np.array([[[1,2,3],\n",
    "               [3,2,1]],\n",
    "               \n",
    "              [[4,5,6],\n",
    "              [6,5,4]],\n",
    "               \n",
    "              [[7,8,9],\n",
    "              [9,8,7]]])\n",
    "\n",
    "print(arr.shape)\n",
    "print(arr)\n",
    "print('-----------------------------------------------------------------')\n",
    "\n",
    "#only want the first and third column\n",
    "print(arr[:,:,(0,2)])\n",
    "print('-----------------------------------------------------------------')\n",
    "\n",
    "print(arr[:,0,(0,2)][:,np.newaxis,:]) #dropping the column"
   ]
  },
  {
   "cell_type": "code",
   "execution_count": 33,
   "id": "58b1fd4f",
   "metadata": {
    "scrolled": true
   },
   "outputs": [
    {
     "name": "stdout",
     "output_type": "stream",
     "text": [
      "[[1 2 3]\n",
      " [3 2 1]]\n",
      "(2, 3) is the shape of arr\n",
      "-----------------------------------------------------------------\n",
      "[[1 3]\n",
      " [2 2]\n",
      " [3 1]]\n",
      "(3, 2) is the shape of transpose matrix\n"
     ]
    }
   ],
   "source": [
    "#transpose\n",
    "arr = np.array([[1,2,3],\n",
    "               [3,2,1]])\n",
    "print(arr)\n",
    "print(arr.shape,'is the shape of arr')\n",
    "print('-----------------------------------------------------------------')\n",
    "\n",
    "tran = arr.T\n",
    "print(tran)\n",
    "print(tran.shape,'is the shape of transpose matrix')"
   ]
  },
  {
   "cell_type": "code",
   "execution_count": 41,
   "id": "849dee70",
   "metadata": {
    "scrolled": true
   },
   "outputs": [
    {
     "name": "stdout",
     "output_type": "stream",
     "text": [
      "[[1 2 3]\n",
      " [3 2 1]]\n",
      "-----------------------------------------------------------------\n",
      "[[0 1]\n",
      " [2 3]\n",
      " [4 5]]\n",
      "-----------------------------------------------------------------\n",
      "[[16 22]\n",
      " [ 8 14]]\n",
      "-----------------------------------------------------------------\n",
      "[[16 22]\n",
      " [ 8 14]]\n"
     ]
    }
   ],
   "source": [
    "#matmul, used in the calculation vectorization. matrix multiplication\n",
    "\n",
    "arr = np.array([[1,2,3],\n",
    "               [3,2,1]])\n",
    "print(arr)\n",
    "print('-----------------------------------------------------------------')\n",
    "\n",
    "arr1 = np.array(range(6)).reshape((3,2))\n",
    "print(arr1)\n",
    "print('-----------------------------------------------------------------')\n",
    "\n",
    "print(np.matmul(arr,arr1))\n",
    "print('-----------------------------------------------------------------')\n",
    "\n",
    "print(arr@arr1)"
   ]
  },
  {
   "cell_type": "code",
   "execution_count": 46,
   "id": "cf312773",
   "metadata": {
    "collapsed": true
   },
   "outputs": [
    {
     "name": "stdout",
     "output_type": "stream",
     "text": [
      "[1 2 3 3 2 1 4 5 6 6 5 4 7 8 9 9 8 7]\n",
      "[1 2 3 3 2 1 4 5 6 6 5 4 7 8 9 9 8 7]\n",
      "[[[1 2 3 3 2 1]]\n",
      "\n",
      " [[4 5 6 6 5 4]]\n",
      "\n",
      " [[7 8 9 9 8 7]]]\n",
      "[[[1]\n",
      "  [2]\n",
      "  [3]\n",
      "  [3]\n",
      "  [2]\n",
      "  [1]]\n",
      "\n",
      " [[4]\n",
      "  [5]\n",
      "  [6]\n",
      "  [6]\n",
      "  [5]\n",
      "  [4]]\n",
      "\n",
      " [[7]\n",
      "  [8]\n",
      "  [9]\n",
      "  [9]\n",
      "  [8]\n",
      "  [7]]]\n"
     ]
    }
   ],
   "source": [
    "#flatten the array i.e to the rank 1 array\n",
    "\n",
    "arr = np.array([[[1,2,3],\n",
    "               [3,2,1]],\n",
    "               \n",
    "              [[4,5,6],\n",
    "              [6,5,4]],\n",
    "               \n",
    "              [[7,8,9],\n",
    "              [9,8,7]]])\n",
    "\n",
    "print(arr.flatten())\n",
    "print(arr.reshape(-1))\n",
    "print(arr.reshape(3,-1,6)) #remove the row dimension\n",
    "\n",
    "print(arr.reshape(3,6,-1))"
   ]
  },
  {
   "cell_type": "code",
   "execution_count": 57,
   "id": "29106297",
   "metadata": {},
   "outputs": [
    {
     "name": "stdout",
     "output_type": "stream",
     "text": [
      "6\n",
      "-----------------------------------------------------------------\n",
      "[[3 2 3]\n",
      " [6 5 6]\n",
      " [1 1 1]]\n",
      "-----------------------------------------------------------------\n",
      "[[[3 2 3]]\n",
      "\n",
      " [[6 5 6]]\n",
      "\n",
      " [[1 1 1]]]\n",
      "-----------------------------------------------------------------\n",
      "[[[3 2 3]]\n",
      "\n",
      " [[6 5 6]]\n",
      "\n",
      " [[1 1 1]]]\n",
      "[[3 2 3]\n",
      " [6 5 6]\n",
      " [1 1 1]]\n"
     ]
    }
   ],
   "source": [
    "print(np.max(arr))\n",
    "print('-----------------------------------------------------------------')\n",
    "\n",
    "print(np.max(arr, axis=1))\n",
    "print('-----------------------------------------------------------------')\n",
    "\n",
    "print(np.max(arr, axis=1, keepdims=True)) #keeps the dimensions same if any dimension has 0\n",
    "print('-----------------------------------------------------------------')\n",
    "\n",
    "arr = np.array([[[1,2,3],\n",
    "               [3,2,1]],\n",
    "               \n",
    "              [[4,5,6],\n",
    "              [6,5,4]],\n",
    "               \n",
    "              [[0,1,0],\n",
    "              [1,0,1]]])\n",
    "print(np.max(arr, axis=1, keepdims=True))\n",
    "print(np.max(arr, axis=1, keepdims=False))\n"
   ]
  },
  {
   "cell_type": "code",
   "execution_count": 58,
   "id": "4e6b8459",
   "metadata": {},
   "outputs": [
    {
     "name": "stdout",
     "output_type": "stream",
     "text": [
      "[[[1 2 3]\n",
      "  [3 2 1]]\n",
      "\n",
      " [[4 5 6]\n",
      "  [6 5 4]]\n",
      "\n",
      " [[0 1 0]\n",
      "  [1 0 1]]]\n"
     ]
    }
   ],
   "source": [
    "#standardized axis\n",
    "\n",
    "#listen from class from 2 hrs\n",
    "\n"
   ]
  },
  {
   "cell_type": "code",
   "execution_count": 62,
   "id": "8b337a7a",
   "metadata": {},
   "outputs": [
    {
     "name": "stdout",
     "output_type": "stream",
     "text": [
      "[[1 2 1]\n",
      " [4 5 4]\n",
      " [0 1 1]]\n",
      "------------------------------------------------\n",
      "[[1 2 6]\n",
      " [4 5 9]\n",
      " [0 1 1]]\n"
     ]
    }
   ],
   "source": [
    "#slicing using np arrays (on-hot encoding)\n",
    "\n",
    "arr = np.array([[[1,2,3],\n",
    "               [3,2,1]],\n",
    "               \n",
    "              [[4,5,6],\n",
    "              [6,5,4]],\n",
    "               \n",
    "              [[0,1,0],\n",
    "              [1,0,1]]])\n",
    "\n",
    "rowarr = np.array([0,0,1])\n",
    "colarr = np.array([0,1,2])\n",
    "\n",
    "print(arr[:,rowarr,colarr])\n",
    "print('------------------------------------------------')\n",
    "\n",
    "arr1 = np.array([[[1,2,3],\n",
    "               [4,5,6]],\n",
    "               \n",
    "              [[4,5,6],\n",
    "              [7,8,9]],\n",
    "               \n",
    "              [[0,1,0],\n",
    "              [0,0,1]]])\n",
    "\n",
    "print(arr1[:,rowarr,colarr])"
   ]
  },
  {
   "cell_type": "code",
   "execution_count": 68,
   "id": "1af1fc26",
   "metadata": {},
   "outputs": [
    {
     "name": "stdout",
     "output_type": "stream",
     "text": [
      "6 5 {0, 1, 2, 3, 4}\n",
      "\n",
      "[[1. 0. 0. 0. 0.]\n",
      " [0. 1. 0. 0. 0.]\n",
      " [0. 0. 0. 0. 1.]\n",
      " [0. 0. 1. 0. 0.]\n",
      " [0. 0. 0. 1. 0.]\n",
      " [0. 0. 0. 1. 0.]]\n"
     ]
    }
   ],
   "source": [
    "target = [0,1,4,2,3,3] #one-hot encoding\n",
    "\n",
    "# [[1,0,0,0,0],\n",
    "#  [0,1,0,0,0],\n",
    "#  [0,0,0,0,1],\n",
    "#  [0,0,1,0,0],\n",
    "#  [0,0,0,1,0],\n",
    "#  [0,0,0,1,0]]\n",
    "\n",
    "a=len(target)\n",
    "\n",
    "b=len(set(target))\n",
    "\n",
    "c =set(target)\n",
    "print(a,b,c)\n",
    "print()\n",
    "\n",
    "target_one_hot = np.eye(len(set(target)))[np.array(target),:]\n",
    "print(target_one_hot)"
   ]
  },
  {
   "cell_type": "code",
   "execution_count": 77,
   "id": "f5625dd4",
   "metadata": {},
   "outputs": [
    {
     "name": "stdout",
     "output_type": "stream",
     "text": [
      "the result is 949 run time:265.625\n"
     ]
    }
   ],
   "source": [
    "#inner product\n",
    "import time\n",
    "\n",
    "\n",
    "arr1 = np.array([1,0,3,2,54,2,3,1,7,2,3,5,1,2,3,4,5,6,7,8])\n",
    "arr2 = np.array([1,0,3,12,5,2,3,1,7,2,23,5,41,2,3,4,53,6,7,8])\n",
    "\n",
    "tic = time.process_time()\n",
    "\n",
    "ctr = 0\n",
    "while ctr<=10000:\n",
    "    res = 0\n",
    "    for i in range(arr1.shape[0]):\n",
    "        res+= arr1[i] * arr2[i]\n",
    "    ctr+=1\n",
    "    \n",
    "toc = time.process_time()\n",
    "\n",
    "print(\"the result is \"+ str(res) + \" run time:\" + str(1000*(toc-tic)))"
   ]
  },
  {
   "cell_type": "code",
   "execution_count": 78,
   "id": "f063dd36",
   "metadata": {},
   "outputs": [
    {
     "name": "stdout",
     "output_type": "stream",
     "text": [
      "the result is 949 run time:62.5\n"
     ]
    }
   ],
   "source": [
    "#method: vectorization\n",
    "\n",
    "tic = time.process_time()\n",
    "\n",
    "ctr = 0\n",
    "while ctr<=10000:\n",
    "    res = sum(arr1*arr2)\n",
    "    ctr+=1\n",
    "    \n",
    "toc = time.process_time()\n",
    "\n",
    "print(\"the result is \"+ str(res) + \" run time:\" + str(1000*(toc-tic)))\n"
   ]
  },
  {
   "cell_type": "code",
   "execution_count": 84,
   "id": "54ffac14",
   "metadata": {},
   "outputs": [
    {
     "name": "stdout",
     "output_type": "stream",
     "text": [
      "the result is 22372 run time:93.75\n"
     ]
    }
   ],
   "source": [
    "#outer product\n",
    "tic = time.process_time()\n",
    "\n",
    "ctr = 0\n",
    "while ctr<=10000:\n",
    "    res = np.sum(np.outer(arr1,arr2))\n",
    "    ctr+=1\n",
    "    \n",
    "toc = time.process_time()\n",
    "\n",
    "print(\"the result is \"+ str(res) + \" run time:\" + str(1000*(toc-tic)))\n",
    "\n",
    "#what is difference between sum and np.sum?"
   ]
  },
  {
   "cell_type": "code",
   "execution_count": 81,
   "id": "a5bb3f79",
   "metadata": {},
   "outputs": [
    {
     "name": "stdout",
     "output_type": "stream",
     "text": [
      "the result is 22372 run time:5062.5\n"
     ]
    }
   ],
   "source": [
    "#method: for loop\n",
    "\n",
    "tic = time.process_time()\n",
    "\n",
    "ctr = 0\n",
    "while ctr<=10000:\n",
    "    res = 0\n",
    "    for i in range(arr1.shape[0]):\n",
    "        for j in range(arr2.shape[0]):\n",
    "            res += arr1[i] * arr2[j]\n",
    "    ctr+=1\n",
    "    \n",
    "toc = time.process_time()\n",
    "\n",
    "print(\"the result is \"+ str(res) + \" run time:\" + str(1000*(toc-tic)))"
   ]
  },
  {
   "cell_type": "code",
   "execution_count": 90,
   "id": "eedcfcda",
   "metadata": {
    "scrolled": true
   },
   "outputs": [
    {
     "name": "stdout",
     "output_type": "stream",
     "text": [
      "[[[1 2 3]\n",
      "  [3 2 1]]\n",
      "\n",
      " [[4 5 6]\n",
      "  [6 5 4]]\n",
      "\n",
      " [[0 1 0]\n",
      "  [1 0 1]]]\n",
      "--------------------------------------------------------------------\n",
      "[[[1 3]\n",
      "  [2 2]\n",
      "  [3 1]]\n",
      "\n",
      " [[4 6]\n",
      "  [5 5]\n",
      "  [6 4]]\n",
      "\n",
      " [[0 1]\n",
      "  [1 0]\n",
      "  [0 1]]]\n",
      "--------------------------------------------------------------------\n",
      "[[[1 3]\n",
      "  [2 2]\n",
      "  [3 1]]\n",
      "\n",
      " [[4 6]\n",
      "  [5 5]\n",
      "  [6 4]]\n",
      "\n",
      " [[0 1]\n",
      "  [1 0]\n",
      "  [0 1]]]\n"
     ]
    }
   ],
   "source": [
    "#axis swapping. Nothing but the transpose of higher dimensional array\n",
    "\n",
    "print(arr)\n",
    "print('--------------------------------------------------------------------')\n",
    "\n",
    "print(np.swapaxes(arr,1,2))\n",
    "print('--------------------------------------------------------------------')\n",
    "\n",
    "print(np.swapaxes(arr,2,1))\n"
   ]
  },
  {
   "cell_type": "code",
   "execution_count": null,
   "id": "2c9d3b2f",
   "metadata": {},
   "outputs": [],
   "source": [
    "RGB: three primary color\n",
    "    (mxn) pixels on each color channel\n",
    "    for each pixel we have a color intensity, 0-255 -> 8 bit number:\n",
    "        "
   ]
  },
  {
   "cell_type": "code",
   "execution_count": 91,
   "id": "d6e5afaf",
   "metadata": {
    "collapsed": true
   },
   "outputs": [
    {
     "name": "stdout",
     "output_type": "stream",
     "text": [
      "Collecting pillow\n",
      "  Downloading Pillow-9.0.0-cp39-cp39-win_amd64.whl (3.2 MB)\n",
      "Installing collected packages: pillow\n",
      "Successfully installed pillow-9.0.0\n",
      "Note: you may need to restart the kernel to use updated packages.\n"
     ]
    }
   ],
   "source": [
    "pip install pillow"
   ]
  },
  {
   "cell_type": "code",
   "execution_count": 5,
   "id": "61a1399a",
   "metadata": {
    "scrolled": true
   },
   "outputs": [
    {
     "name": "stdout",
     "output_type": "stream",
     "text": [
      "[[[226 137 125]\n",
      "  [226 137 125]\n",
      "  [223 137 133]\n",
      "  ...\n",
      "  [230 148 122]\n",
      "  [221 130 110]\n",
      "  [200  99  90]]\n",
      "\n",
      " [[226 137 125]\n",
      "  [226 137 125]\n",
      "  [223 137 133]\n",
      "  ...\n",
      "  [230 148 122]\n",
      "  [221 130 110]\n",
      "  [200  99  90]]\n",
      "\n",
      " [[226 137 125]\n",
      "  [226 137 125]\n",
      "  [223 137 133]\n",
      "  ...\n",
      "  [230 148 122]\n",
      "  [221 130 110]\n",
      "  [200  99  90]]\n",
      "\n",
      " ...\n",
      "\n",
      " [[ 84  18  60]\n",
      "  [ 84  18  60]\n",
      "  [ 92  27  58]\n",
      "  ...\n",
      "  [173  73  84]\n",
      "  [172  68  76]\n",
      "  [177  62  79]]\n",
      "\n",
      " [[ 82  22  57]\n",
      "  [ 82  22  57]\n",
      "  [ 96  32  62]\n",
      "  ...\n",
      "  [179  70  79]\n",
      "  [181  71  81]\n",
      "  [185  74  81]]\n",
      "\n",
      " [[ 82  22  57]\n",
      "  [ 82  22  57]\n",
      "  [ 96  32  62]\n",
      "  ...\n",
      "  [179  70  79]\n",
      "  [181  71  81]\n",
      "  [185  74  81]]]\n",
      "(512, 512, 3)\n"
     ]
    }
   ],
   "source": [
    "from PIL import Image\n",
    "import numpy as np\n",
    "\n",
    "img = np.asarray(Image.open('C:/Users/STSC.LENOVO-131292/BAN 601/Lenna.png').convert('RGB'))\n",
    "print(img)\n",
    "print(img.shape)\n",
    "\n"
   ]
  },
  {
   "cell_type": "code",
   "execution_count": 8,
   "id": "fa46df55",
   "metadata": {},
   "outputs": [],
   "source": [
    "#generate a colorful noise image\n",
    "\n",
    "arr = np.random.randint(0,255,size=(500,500,3))\n",
    "arr = arr.astype(np.uint8)\n",
    "pilimg = Image.fromarray(arr)\n",
    "pilimg.show()"
   ]
  },
  {
   "cell_type": "code",
   "execution_count": 10,
   "id": "1d4c6957",
   "metadata": {},
   "outputs": [],
   "source": [
    "img = np.asarray(Image.open('C:/Users/STSC.LENOVO-131292/BAN 601/Lenna.png').convert('RGB'))\n",
    "r,g,b = img.copy(), img.copy(), img.copy()\n",
    "r[:,:,(1,2)]=0\n",
    "g[:,:,(0,2)]=0\n",
    "b[:,:,(0,1)]=0\n",
    "pilimg=Image.fromarray(b)\n",
    "pilimg.show()"
   ]
  },
  {
   "cell_type": "code",
   "execution_count": 11,
   "id": "fc44a855",
   "metadata": {},
   "outputs": [],
   "source": [
    "imgAll = np.concatenate((r,g,b),axis=1)\n",
    "pilimg = Image.fromarray(imgAll)\n",
    "pilimg.show()"
   ]
  },
  {
   "cell_type": "code",
   "execution_count": null,
   "id": "99c12ac5",
   "metadata": {},
   "outputs": [],
   "source": [
    "#filter1: make the image more blue\n",
    "\n",
    "def makeBlue(b_factor,img):\n",
    "    '''\n",
    "    the lower the b_factor the bluer the image is\n",
    "    '''\n",
    "    \n",
    "    r,g,b = img"
   ]
  },
  {
   "cell_type": "code",
   "execution_count": 13,
   "id": "e89565e5",
   "metadata": {},
   "outputs": [],
   "source": [
    "#filter2 : blur the image\n",
    "#very similar to a CNN pooling layer. ---- what is this??\n",
    "#for each color channel, for each pixel, we replcae it with the average of its surrounding pixels\n",
    "\n",
    "def makeBlur(b_factor, img):\n",
    "    '''\n",
    "    the more the b_factor more blur in the image\n",
    "    '''\n",
    "    \n",
    "    size=img.shape\n",
    "    for i in range(size[0]):\n",
    "        for j in range(size[1]):\n",
    "            for k in range(size[2]):\n",
    "                avgPixel = np.average(img[max(i-b_factor,0):min(i+b_factor,size[0]),\n",
    "                                          max(j-b_factor,0):min(j+b_factor,size[1]),\n",
    "                                          k])\n",
    "                                          \n",
    "                img[i,j,k]=avgPixel\n",
    "    pilimg = Image.fromarray(img)\n",
    "    pilimg.show()\n",
    "makeBlur(5,np.asarray(Image.open('C:/Users/STSC.LENOVO-131292/BAN 601/Lenna.png').convert('RGB')))                  "
   ]
  },
  {
   "cell_type": "code",
   "execution_count": null,
   "id": "905f536a",
   "metadata": {},
   "outputs": [],
   "source": [
    "pandas, dataframe, iterations"
   ]
  },
  {
   "cell_type": "code",
   "execution_count": null,
   "id": "c1a0bfc4",
   "metadata": {},
   "outputs": [],
   "source": []
  }
 ],
 "metadata": {
  "kernelspec": {
   "display_name": "Python 3 (ipykernel)",
   "language": "python",
   "name": "python3"
  },
  "language_info": {
   "codemirror_mode": {
    "name": "ipython",
    "version": 3
   },
   "file_extension": ".py",
   "mimetype": "text/x-python",
   "name": "python",
   "nbconvert_exporter": "python",
   "pygments_lexer": "ipython3",
   "version": "3.9.7"
  }
 },
 "nbformat": 4,
 "nbformat_minor": 5
}
